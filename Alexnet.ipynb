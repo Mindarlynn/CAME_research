{
 "cells": [
  {
   "cell_type": "code",
   "execution_count": 1,
   "id": "985eda25",
   "metadata": {},
   "outputs": [],
   "source": [
    "import numpy as np\n",
    "\n",
    "class calculator:\n",
    "    def __init__(self, in_mat_sz):\n",
    "        self.in_mat_sz = in_mat_sz\n",
    "        self.conv_cnt = []\n",
    "        self.maxpool_cnt = []\n",
    "        self.nn_cnt = []\n",
    "        self.dropout_nn_cnt = []\n",
    "        self.weights = []\n",
    "        self.biases = []\n",
    "        self.params = []\n",
    "    \n",
    "    def calc_z(self, n, m, s, p):\n",
    "        return (n - m + 2 * p) / s + 1\n",
    "    \n",
    "    def get_conv_cnt(self, kern_sz, s, p):\n",
    "        print('-'*10)\n",
    "        print(f'input matrix size : {self.in_mat_sz}')\n",
    "        print(f'kernel size : {kern_sz}')\n",
    "        print(f'stride : {s}')\n",
    "        print(f'padding : {p}')\n",
    "        n = self.in_mat_sz[0]\n",
    "        k1 = self.in_mat_sz[-1]\n",
    "        \n",
    "        m = kern_sz[0]\n",
    "        k2 = kern_sz[-1]\n",
    "        \n",
    "        z = self.calc_z(n, m, s, p)\n",
    "        \n",
    "        # (m^2 + c) * z^2 * k + z(biases)\n",
    "        conv_cnt = (m**2 + k1) * z**2 * k2 + z\n",
    "        relu_cnt = conv_cnt + z**2\n",
    "        \n",
    "        self.in_mat_sz = [z, z, k2]\n",
    "        self.conv_cnt.append(int(relu_cnt))\n",
    "        self.weights.append(int(m**2 * k1 * k2))\n",
    "        self.biases.append(int(k2))\n",
    "        self.params.append(int(self.weights[-1] + self.biases[-1]))\n",
    "        \n",
    "        print('-'*10)\n",
    "        print(f'output matrix size : {self.in_mat_sz}')\n",
    "        print(f'# of opeartion : {self.conv_cnt[-1]:,}')\n",
    "        print(f'# of weight : {self.weights[-1]:,}')\n",
    "        print(f'# of bias : {self.biases[-1]:,}')\n",
    "        print(f'# of param : {self.params[-1]:,}')\n",
    "        print('-'*10)\n",
    "    \n",
    "    def get_maxpool_cnt(self, kern_sz, s):\n",
    "        print('-'*10)\n",
    "        print(f'input matrix size : {self.in_mat_sz}')\n",
    "        print(f'kernel size : {kern_sz}')\n",
    "        print(f'stride : {s}')\n",
    "        n = self.in_mat_sz[0]\n",
    "        k = self.in_mat_sz[-1]\n",
    "        \n",
    "        m = kern_sz[0]\n",
    "        \n",
    "        z = self.calc_z(n, m, s, 0)\n",
    "        \n",
    "        maxpool_cnt = k * m**2 * z**2\n",
    "        \n",
    "        self.in_mat_sz = [z, z, k]\n",
    "        self.maxpool_cnt.append(int(maxpool_cnt))\n",
    "        \n",
    "        print('-'*10)\n",
    "        print(f'output matrix size : {self.in_mat_sz}')\n",
    "        print(f'# of opeartion : {self.maxpool_cnt[-1]:,}')\n",
    "        print('-'*10)\n",
    "    \n",
    "    def get_nn_cnt(self, net_sz):\n",
    "        print('-'*10)\n",
    "        print(f'input network size : {self.in_mat_sz}')\n",
    "        print(f'network size : {net_sz}')\n",
    "        in_net_sz = np.prod(self.in_mat_sz)\n",
    "        to_net_sz = np.prod(net_sz)\n",
    "        \n",
    "        # TODO: calculate the number of operation\n",
    "        \n",
    "        nn_cnt = (2 * in_net_sz + 1) * to_net_sz\n",
    "        dropout_nn_cnt = (2 * in_net_sz + 1) * to_net_sz * 0.5\n",
    "        \n",
    "        self.nn_cnt.append(int(nn_cnt))\n",
    "        self.dropout_nn_cnt.append(int(dropout_nn_cnt))\n",
    "        self.weights.append(int(in_net_sz * to_net_sz))\n",
    "        self.biases.append(int(to_net_sz))\n",
    "        self.params.append(int(self.weights[-1] + self.biases[-1]))\n",
    "        \n",
    "        self.in_mat_sz = net_sz\n",
    "        \n",
    "        print('-'*10)\n",
    "        print(f'output network size : {self.in_mat_sz}')\n",
    "        print(f'# of operation w/o dropout : {self.nn_cnt[-1]:,}')\n",
    "        print(f'# of operation w/ dropout : {self.dropout_nn_cnt[-1]:,}')\n",
    "        print(f'# of weight : {self.weights[-1]:,}')\n",
    "        print(f'# of bias : {self.biases[-1]:,}')\n",
    "        print(f'# of param : {self.params[-1]:,}')\n",
    "        print('-'*10)\n",
    "    \n",
    "    def cnt_sum(self, dropout=0):\n",
    "        return sum(self.conv_cnt) + sum(self.maxpool_cnt) + (sum(self.nn_cnt) if dropout == 0 else sum(self.dropout_nn_cnt))"
   ]
  },
  {
   "cell_type": "code",
   "execution_count": 2,
   "id": "d3fb1672",
   "metadata": {},
   "outputs": [],
   "source": [
    "AlexNet = calculator([227, 227, 3])"
   ]
  },
  {
   "cell_type": "code",
   "execution_count": 3,
   "id": "0e28a9c7",
   "metadata": {},
   "outputs": [
    {
     "name": "stdout",
     "output_type": "stream",
     "text": [
      "----------\n",
      "input matrix size : [227, 227, 3]\n",
      "kernel size : [11, 11, 96]\n",
      "stride : 4\n",
      "padding : 0\n",
      "----------\n",
      "output matrix size : [55.0, 55.0, 96]\n",
      "# of opeartion : 36,012,680\n",
      "# of weight : 34,848\n",
      "# of bias : 96\n",
      "# of param : 34,944\n",
      "----------\n"
     ]
    }
   ],
   "source": [
    "AlexNet.get_conv_cnt([11, 11, 96], 4, 0)"
   ]
  },
  {
   "cell_type": "code",
   "execution_count": 4,
   "id": "56c11dd8",
   "metadata": {},
   "outputs": [
    {
     "name": "stdout",
     "output_type": "stream",
     "text": [
      "----------\n",
      "input matrix size : [55.0, 55.0, 96]\n",
      "kernel size : [3, 3]\n",
      "stride : 2\n",
      "----------\n",
      "output matrix size : [27.0, 27.0, 96]\n",
      "# of opeartion : 629,856\n",
      "----------\n"
     ]
    }
   ],
   "source": [
    "AlexNet.get_maxpool_cnt([3, 3], 2)"
   ]
  },
  {
   "cell_type": "code",
   "execution_count": 5,
   "id": "0c73b0d1",
   "metadata": {},
   "outputs": [
    {
     "name": "stdout",
     "output_type": "stream",
     "text": [
      "----------\n",
      "input matrix size : [27.0, 27.0, 96]\n",
      "kernel size : [5, 5, 256]\n",
      "stride : 1\n",
      "padding : 2\n",
      "----------\n",
      "output matrix size : [27.0, 27.0, 256]\n",
      "# of opeartion : 22,582,260\n",
      "# of weight : 614,400\n",
      "# of bias : 256\n",
      "# of param : 614,656\n",
      "----------\n"
     ]
    }
   ],
   "source": [
    "AlexNet.get_conv_cnt([5, 5, 256], 1, 2)"
   ]
  },
  {
   "cell_type": "code",
   "execution_count": 6,
   "id": "7bad32bd",
   "metadata": {},
   "outputs": [
    {
     "name": "stdout",
     "output_type": "stream",
     "text": [
      "----------\n",
      "input matrix size : [27.0, 27.0, 256]\n",
      "kernel size : [3, 3]\n",
      "stride : 2\n",
      "----------\n",
      "output matrix size : [13.0, 13.0, 256]\n",
      "# of opeartion : 389,376\n",
      "----------\n"
     ]
    }
   ],
   "source": [
    "AlexNet.get_maxpool_cnt([3, 3], 2)"
   ]
  },
  {
   "cell_type": "code",
   "execution_count": 7,
   "id": "77849448",
   "metadata": {},
   "outputs": [
    {
     "name": "stdout",
     "output_type": "stream",
     "text": [
      "----------\n",
      "input matrix size : [13.0, 13.0, 256]\n",
      "kernel size : [3, 3, 384]\n",
      "stride : 1\n",
      "padding : 1\n",
      "----------\n",
      "output matrix size : [13.0, 13.0, 384]\n",
      "# of opeartion : 17,197,622\n",
      "# of weight : 884,736\n",
      "# of bias : 384\n",
      "# of param : 885,120\n",
      "----------\n"
     ]
    }
   ],
   "source": [
    "AlexNet.get_conv_cnt([3, 3, 384], 1, 1)"
   ]
  },
  {
   "cell_type": "code",
   "execution_count": 8,
   "id": "90f0c348",
   "metadata": {},
   "outputs": [
    {
     "name": "stdout",
     "output_type": "stream",
     "text": [
      "----------\n",
      "input matrix size : [13.0, 13.0, 384]\n",
      "kernel size : [3, 3, 384]\n",
      "stride : 1\n",
      "padding : 1\n",
      "----------\n",
      "output matrix size : [13.0, 13.0, 384]\n",
      "# of opeartion : 25,504,310\n",
      "# of weight : 1,327,104\n",
      "# of bias : 384\n",
      "# of param : 1,327,488\n",
      "----------\n"
     ]
    }
   ],
   "source": [
    "AlexNet.get_conv_cnt([3, 3, 384], 1, 1)"
   ]
  },
  {
   "cell_type": "code",
   "execution_count": 9,
   "id": "f477ae2d",
   "metadata": {},
   "outputs": [
    {
     "name": "stdout",
     "output_type": "stream",
     "text": [
      "----------\n",
      "input matrix size : [13.0, 13.0, 384]\n",
      "kernel size : [3, 3, 256]\n",
      "stride : 1\n",
      "padding : 1\n",
      "----------\n",
      "output matrix size : [13.0, 13.0, 256]\n",
      "# of opeartion : 17,002,934\n",
      "# of weight : 884,736\n",
      "# of bias : 256\n",
      "# of param : 884,992\n",
      "----------\n"
     ]
    }
   ],
   "source": [
    "AlexNet.get_conv_cnt([3, 3, 256], 1, 1)"
   ]
  },
  {
   "cell_type": "code",
   "execution_count": 10,
   "id": "1fdff207",
   "metadata": {},
   "outputs": [
    {
     "name": "stdout",
     "output_type": "stream",
     "text": [
      "----------\n",
      "input matrix size : [13.0, 13.0, 256]\n",
      "kernel size : [3, 3]\n",
      "stride : 2\n",
      "----------\n",
      "output matrix size : [6.0, 6.0, 256]\n",
      "# of opeartion : 82,944\n",
      "----------\n"
     ]
    }
   ],
   "source": [
    "AlexNet.get_maxpool_cnt([3, 3], 2)"
   ]
  },
  {
   "cell_type": "code",
   "execution_count": 11,
   "id": "3efa868c",
   "metadata": {},
   "outputs": [
    {
     "name": "stdout",
     "output_type": "stream",
     "text": [
      "----------\n",
      "input network size : [6.0, 6.0, 256]\n",
      "network size : [1, 4096]\n",
      "----------\n",
      "output network size : [1, 4096]\n",
      "# of operation w/o dropout : 75,501,568\n",
      "# of operation w/ dropout : 37,750,784\n",
      "# of weight : 37,748,736\n",
      "# of bias : 4,096\n",
      "# of param : 37,752,832\n",
      "----------\n"
     ]
    }
   ],
   "source": [
    "AlexNet.get_nn_cnt([1, 4096])"
   ]
  },
  {
   "cell_type": "code",
   "execution_count": 12,
   "id": "df9acb1c",
   "metadata": {},
   "outputs": [
    {
     "name": "stdout",
     "output_type": "stream",
     "text": [
      "----------\n",
      "input network size : [1, 4096]\n",
      "network size : [1, 4096]\n",
      "----------\n",
      "output network size : [1, 4096]\n",
      "# of operation w/o dropout : 33,558,528\n",
      "# of operation w/ dropout : 16,779,264\n",
      "# of weight : 16,777,216\n",
      "# of bias : 4,096\n",
      "# of param : 16,781,312\n",
      "----------\n"
     ]
    }
   ],
   "source": [
    "AlexNet.get_nn_cnt([1, 4096])"
   ]
  },
  {
   "cell_type": "code",
   "execution_count": 13,
   "id": "4fbef168",
   "metadata": {},
   "outputs": [
    {
     "name": "stdout",
     "output_type": "stream",
     "text": [
      "----------\n",
      "input network size : [1, 4096]\n",
      "network size : [1, 1000]\n",
      "----------\n",
      "output network size : [1, 1000]\n",
      "# of operation w/o dropout : 8,193,000\n",
      "# of operation w/ dropout : 4,096,500\n",
      "# of weight : 4,096,000\n",
      "# of bias : 1,000\n",
      "# of param : 4,097,000\n",
      "----------\n"
     ]
    }
   ],
   "source": [
    "AlexNet.get_nn_cnt([1, 1000])"
   ]
  },
  {
   "cell_type": "code",
   "execution_count": 14,
   "id": "0d4f3cf2",
   "metadata": {},
   "outputs": [
    {
     "name": "stdout",
     "output_type": "stream",
     "text": [
      "236,655,078\n"
     ]
    }
   ],
   "source": [
    "print(f'{AlexNet.cnt_sum():,}')"
   ]
  },
  {
   "cell_type": "code",
   "execution_count": 15,
   "id": "33d808c8",
   "metadata": {},
   "outputs": [
    {
     "name": "stdout",
     "output_type": "stream",
     "text": [
      "178,028,530\n"
     ]
    }
   ],
   "source": [
    "print(f'{AlexNet.cnt_sum(1):,}')"
   ]
  },
  {
   "cell_type": "code",
   "execution_count": 16,
   "id": "48f67e82",
   "metadata": {},
   "outputs": [
    {
     "name": "stdout",
     "output_type": "stream",
     "text": [
      "[36012680, 22582260, 17197622, 25504310, 17002934]\n"
     ]
    }
   ],
   "source": [
    "print(AlexNet.conv_cnt)"
   ]
  },
  {
   "cell_type": "code",
   "execution_count": 17,
   "id": "ba75b794",
   "metadata": {},
   "outputs": [
    {
     "name": "stdout",
     "output_type": "stream",
     "text": [
      "[629856, 389376, 82944]\n"
     ]
    }
   ],
   "source": [
    "print(AlexNet.maxpool_cnt)"
   ]
  },
  {
   "cell_type": "code",
   "execution_count": 18,
   "id": "cd79b661",
   "metadata": {},
   "outputs": [
    {
     "name": "stdout",
     "output_type": "stream",
     "text": [
      "[34848, 614400, 884736, 1327104, 884736, 37748736, 16777216, 4096000]\n"
     ]
    }
   ],
   "source": [
    "print(AlexNet.weights)"
   ]
  },
  {
   "cell_type": "code",
   "execution_count": 19,
   "id": "ada19386",
   "metadata": {},
   "outputs": [
    {
     "name": "stdout",
     "output_type": "stream",
     "text": [
      "[96, 256, 384, 384, 256, 4096, 4096, 1000]\n"
     ]
    }
   ],
   "source": [
    "print(AlexNet.biases)"
   ]
  },
  {
   "cell_type": "code",
   "execution_count": 20,
   "id": "0450aa41",
   "metadata": {},
   "outputs": [
    {
     "name": "stdout",
     "output_type": "stream",
     "text": [
      "[34944, 614656, 885120, 1327488, 884992, 37752832, 16781312, 4097000]\n"
     ]
    }
   ],
   "source": [
    "print(AlexNet.params)"
   ]
  },
  {
   "cell_type": "code",
   "execution_count": 21,
   "id": "5d4246d8",
   "metadata": {},
   "outputs": [
    {
     "name": "stdout",
     "output_type": "stream",
     "text": [
      "[75501568, 33558528, 8193000]\n"
     ]
    }
   ],
   "source": [
    "print(AlexNet.nn_cnt)"
   ]
  },
  {
   "cell_type": "code",
   "execution_count": 22,
   "id": "abbd0364",
   "metadata": {},
   "outputs": [
    {
     "name": "stdout",
     "output_type": "stream",
     "text": [
      "[37750784, 16779264, 4096500]\n"
     ]
    }
   ],
   "source": [
    "print(AlexNet.dropout_nn_cnt)"
   ]
  },
  {
   "cell_type": "code",
   "execution_count": null,
   "id": "a43989f2",
   "metadata": {},
   "outputs": [],
   "source": []
  }
 ],
 "metadata": {
  "kernelspec": {
   "display_name": "Python 3 (ipykernel)",
   "language": "python",
   "name": "python3"
  },
  "language_info": {
   "codemirror_mode": {
    "name": "ipython",
    "version": 3
   },
   "file_extension": ".py",
   "mimetype": "text/x-python",
   "name": "python",
   "nbconvert_exporter": "python",
   "pygments_lexer": "ipython3",
   "version": "3.10.8"
  }
 },
 "nbformat": 4,
 "nbformat_minor": 5
}
